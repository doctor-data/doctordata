{
 "cells": [
  {
   "cell_type": "markdown",
   "metadata": {},
   "source": [
    "# Scripts que devuelve las diferencias entre los ficheros"
   ]
  },
  {
   "cell_type": "markdown",
   "metadata": {},
   "source": [
    "Importamos"
   ]
  },
  {
   "cell_type": "code",
   "execution_count": 1,
   "metadata": {},
   "outputs": [
    {
     "name": "stdout",
     "output_type": "stream",
     "text": [
      "Importing libraries...\n"
     ]
    }
   ],
   "source": [
    "\"\"\"\n",
    "    This is the main function.\n",
    "\"\"\"\n",
    "print('Importing libraries...')\n",
    "import json\n",
    "import os\n",
    "import pandas as pd\n",
    "from difflib import SequenceMatcher\n",
    "import jellyfish\n",
    "from geopy.geocoders import Nominatim\n",
    "geolocator = Nominatim()\n",
    "from geopy.distance import great_circle\n",
    "import folium\n",
    "from folium.plugins import MarkerCluster\n",
    "from convertbng.util import convert_bng, convert_lonlat, convert_etrs89_to_lonlat\n",
    "import overpass\n",
    "import sys\n",
    "from datetime import datetime"
   ]
  },
  {
   "cell_type": "code",
   "execution_count": 2,
   "metadata": {},
   "outputs": [
    {
     "name": "stdout",
     "output_type": "stream",
     "text": [
      "Defining functions...\n"
     ]
    }
   ],
   "source": [
    "# Functions to work\n",
    "print('Defining functions...')\n",
    "def get_id(x):\n",
    "    try:\n",
    "        for i in range(len(ids)):\n",
    "            point = [lat[i],lon[i]]\n",
    "            if getDistance_meters(x,point) <results[fichero]['distance_SAME']:\n",
    "                ayu[i] = x\n",
    "                return ids[i]\n",
    "        return 'No match'\n",
    "    except:\n",
    "        return 'No match'\n",
    "\n",
    "def get_close(x):\n",
    "    try:\n",
    "        for i in range(len(ids)):\n",
    "            point = [lat[i],lon[i]]\n",
    "            if getDistance_meters(x,point) <results[fichero]['distance_CLOSE']:\n",
    "                ayu[i] = x\n",
    "                return ids[i]\n",
    "        return 'No match'\n",
    "    except:\n",
    "        return 'No match'\n",
    "\n",
    "def get_lat(x):\n",
    "    try:\n",
    "        ind = ids.index(x)\n",
    "        return float(lat[ind])\n",
    "    except:\n",
    "        return None\n",
    "\n",
    "def get_lon(x):\n",
    "    try:\n",
    "        ind = ids.index(x)\n",
    "        return float(lon[ind])\n",
    "    except:\n",
    "        return None\n",
    "\n",
    "def get_name(x):\n",
    "    try:\n",
    "        ind = ids.index(x)\n",
    "        return name[ind]\n",
    "    except:\n",
    "        return None\n",
    "\n",
    "def get_score(x):\n",
    "    return getDistance_meters([x.lat_OSM, x.lon_OSM],[x.LATITUD, x.LONGITUD])\n",
    "\n",
    "def getDistance_meters(x,y):\n",
    "    try:\n",
    "        return great_circle(x, y).kilometers*1000.0\n",
    "    except:\n",
    "        return 0"
   ]
  },
  {
   "cell_type": "code",
   "execution_count": 3,
   "metadata": {
    "collapsed": true
   },
   "outputs": [],
   "source": [
    "first_arg = sys.argv[1]"
   ]
  },
  {
   "cell_type": "code",
   "execution_count": 4,
   "metadata": {},
   "outputs": [
    {
     "data": {
      "text/plain": [
       "['.DS_Store',\n",
       " '20170614-BANCOS.csv',\n",
       " '20170614-PAPELERAS.csv',\n",
       " '20171110-InventarioFuentes.csv',\n",
       " 'anexo i monumentos.xls',\n",
       " 'doctordata.py',\n",
       " 'indice.csv']"
      ]
     },
     "execution_count": 4,
     "metadata": {},
     "output_type": "execute_result"
    }
   ],
   "source": [
    "os.chdir('/Volumes/MacintoshHD/_GitHub/doctordata/api/data/')\n",
    "os.listdir()"
   ]
  },
  {
   "cell_type": "code",
   "execution_count": 5,
   "metadata": {
    "collapsed": true
   },
   "outputs": [],
   "source": [
    "AYU_fichero = '20171110-InventarioFuentes.csv'\n",
    "AYU_fichero = '20170614-BANCOS.csv'\n",
    "#AYU_fichero = '20170614-PAPELERAS.csv'\n",
    "# Function to pass argument in terminal\n",
    "try:\n",
    "    if (first_arg != '-f'):\n",
    "        AYU_fichero = first_arg\n",
    "except:\n",
    "    pass"
   ]
  },
  {
   "cell_type": "code",
   "execution_count": 6,
   "metadata": {},
   "outputs": [
    {
     "name": "stdout",
     "output_type": "stream",
     "text": [
      "Opening files and ensuring naming convention...\n",
      "Accessing Overpass API\n",
      "Found 1273 entities in OSM under \"amenity\"=\"bench\"\n",
      "Found 65421 entities in Ayuntamiento de Madrid\n",
      "No errors!\n"
     ]
    },
    {
     "name": "stderr",
     "output_type": "stream",
     "text": [
      "/Users/raimundoabrillopez/anaconda/lib/python3.5/site-packages/pandas/core/ops.py:798: FutureWarning: elementwise comparison failed; returning scalar instead, but in the future will perform elementwise comparison\n",
      "  result = getattr(x, name)(y)\n"
     ]
    }
   ],
   "source": [
    "#Center coordinates\n",
    "SF_COORDINATES = (40.4168, -3.7038)\n",
    "\n",
    "# for speed purposes\n",
    "MAX_RECORDS = 10\n",
    "\n",
    "\n",
    "\n",
    "print('Opening files and ensuring naming convention...')\n",
    "os.chdir('/Volumes/MacintoshHD/_GitHub/doctordata/api/data/')\n",
    "indice = pd.read_csv('indice.csv',index_col=0,encoding='latin-1',delimiter=';')\n",
    "\n",
    "results = {}\n",
    "for key, df_gb in indice.groupby(indice.index):\n",
    "    results[str(key)] = df_gb.to_dict('list')\n",
    "\n",
    "for key in results.keys():\n",
    "    results[key]['SEARCH'] = results[key]['SEARCH'][0][1:-1]\n",
    "    results[key]['distance_CLOSE'] = results[key]['distance_CLOSE'][0]\n",
    "    results[key]['distance_SAME'] = results[key]['distance_SAME'][0]\n",
    "    results[key]['palabra'] = results[key]['palabra'][0]\n",
    "\n",
    "\n",
    "fichero = []\n",
    "for key in results.keys():\n",
    "    if AYU_fichero.split('-')[1][:-4] == results[key]['palabra']:\n",
    "        fichero = key\n",
    "\n",
    "search = 'area[\"name\"=\"Madrid\"];node(area)['+results[fichero]['SEARCH']+'];'\n",
    "\n",
    "print('Accessing Overpass API')\n",
    "api = overpass.API()\n",
    "OSM = api.Get(search)\n",
    "\n",
    "#OSM['features'][0]\n",
    "\n",
    "\n",
    "# Create searching arrays\n",
    "\n",
    "ids = [OSM['features'][i]['id'] for i in range(len(OSM['features']))]\n",
    "lat = [OSM['features'][i]['geometry']['coordinates'][1] for i in range(len(OSM['features']))]\n",
    "lon = [OSM['features'][i]['geometry']['coordinates'][0] for i in range(len(OSM['features']))]\n",
    "osm = list(zip(ids,lat,lon))\n",
    "#name = [OSM['features'][i]['properties']['name'] for i in range(len(OSM['features']))]\n",
    "ayu = ids[:]\n",
    "print('Found {} entities in OSM under {}'.format(len(ayu),results[fichero]['SEARCH']))\n",
    "\n",
    "# Add ayuntamiento data\n",
    "#results[fichero]['DOCTORDATA'][1:]\n",
    "AYU = pd.read_csv(AYU_fichero, encoding='latin-1', delimiter=';')\n",
    "AYU.columns = [x.upper() for x in AYU.columns.values]\n",
    "print('Found {} entities in Ayuntamiento de Madrid'.format(AYU.count().max()))\n",
    "\n",
    "if AYU_fichero == '20171110_InventarioFuentes.csv':\n",
    "    AYU.columns = results[fichero]['DOCTORDATA'][1:]\n",
    "\n",
    "try:\n",
    "    AYU = AYU[AYU.LATITUD != 'Error']\n",
    "    AYU = AYU[AYU.LONGITUD != 'Error']\n",
    "except:\n",
    "    print('No errors!')\n",
    "\n",
    "AYU.LATITUD = AYU.LATITUD.astype('float32')\n",
    "AYU.LONGITUD = AYU.LONGITUD.astype('float32')\n",
    "AYU = AYU.sort_values('LATITUD')\n",
    "#AYU['X_ETRS89'] = AYU['X_ETRS89'].apply(lambda x: float(x.replace(',','.')))\n",
    "#AYU['Y_ETRS89'] = AYU['Y_ETRS89'].apply(lambda x: float(x.replace(',','.')))\n",
    "AYU['coord'] = list(zip(AYU.LATITUD, AYU.LONGITUD))\n",
    "#AYU = AYU[:200]"
   ]
  },
  {
   "cell_type": "code",
   "execution_count": 7,
   "metadata": {
    "collapsed": true
   },
   "outputs": [],
   "source": [
    "columns = ['id_OSM','lat_OSM','lon_OSM']\n",
    "osm_df = pd.DataFrame(osm, columns=columns)\n",
    "osm_df['coord_OSM'] = osm_df.apply(lambda x: (x.lat_OSM,x.lon_OSM), axis=1)\n",
    "AYU_OK = []\n",
    "AYU_EDIT = []\n",
    "AYU_NO = []"
   ]
  },
  {
   "cell_type": "code",
   "execution_count": 8,
   "metadata": {},
   "outputs": [
    {
     "name": "stdout",
     "output_type": "stream",
     "text": [
      "Elapsed 5:08:03.669057ETA 0:00:00.282533\n",
      "Total MAD entities processed:  65421\n",
      "Processed:  65421\n",
      "Ok:  517\n",
      "Edit:  265\n",
      "No están en OSM:  64639\n"
     ]
    }
   ],
   "source": [
    "ok = 0\n",
    "edit = 0\n",
    "no = 0\n",
    "total = 0\n",
    "\n",
    "startTime = datetime.now()\n",
    "for index,row in AYU.iterrows():\n",
    "    osm_df['distance'] = osm_df.apply(lambda x: getDistance_meters(x.coord_OSM,row.coord),axis=1)\n",
    "    osm_df = osm_df.sort_values('distance')\n",
    "    total+=1\n",
    "    \n",
    "    if osm_df['distance'].head(1).values < results[fichero]['distance_SAME']:\n",
    "        AYU_OK.append([index,osm_df.head(1)['id_OSM'].values[0], osm_df.head(1)['distance'].values[0]])\n",
    "        ok +=1\n",
    "    elif osm_df['distance'].head(1).values < results[fichero]['distance_CLOSE']:\n",
    "        AYU_EDIT.append([index,osm_df.head(1)['id_OSM'].values[0], osm_df.head(1)['distance'].values[0]])\n",
    "        edit +=1\n",
    "    else:\n",
    "        AYU_NO.append(index)\n",
    "        no +=1\n",
    "    print('Processed {}/{} ETA {}'.format(total, AYU.count().max(), (datetime.now()-startTime)/total*(AYU.count().max()-total)), end='\\r')\n",
    "\n",
    "print('Elapsed {}'.format(datetime.now()-startTime))\n",
    "print('Total MAD entities processed: ', total)\n",
    "print('Processed: ',str(ok+edit+no))\n",
    "print('Ok: ',ok)\n",
    "print('Edit: ',edit)\n",
    "print('No están en OSM: ',no)"
   ]
  },
  {
   "cell_type": "code",
   "execution_count": 9,
   "metadata": {
    "collapsed": true
   },
   "outputs": [],
   "source": [
    "columns = ['id', 'id_OSM', 'distance']\n",
    "ayu_ok_df = pd.DataFrame(AYU_OK, columns=columns)\n",
    "ayu_edit_df = pd.DataFrame(AYU_EDIT, columns=columns)"
   ]
  },
  {
   "cell_type": "code",
   "execution_count": 10,
   "metadata": {
    "collapsed": true
   },
   "outputs": [],
   "source": [
    "osm_df = osm_df.sort_values('id_OSM')\n",
    "ayu_ok_df = ayu_ok_df.sort_values('id_OSM')\n",
    "ayu_edit_df = ayu_edit_df.sort_values('id_OSM')"
   ]
  },
  {
   "cell_type": "code",
   "execution_count": 11,
   "metadata": {},
   "outputs": [
    {
     "name": "stdout",
     "output_type": "stream",
     "text": [
      "Faltan 863 in Ayuntamiento dataset\n"
     ]
    }
   ],
   "source": [
    "ayu_missing_df = osm_df[~osm_df.id_OSM.isin(list(ayu_ok_df.id_OSM.values))]\n",
    "print('Faltan {} in Ayuntamiento dataset'.format(ayu_missing_df.count().max()))"
   ]
  },
  {
   "cell_type": "code",
   "execution_count": 12,
   "metadata": {},
   "outputs": [
    {
     "name": "stderr",
     "output_type": "stream",
     "text": [
      "/Users/raimundoabrillopez/anaconda/lib/python3.5/site-packages/ipykernel/__main__.py:7: SettingWithCopyWarning: \n",
      "A value is trying to be set on a copy of a slice from a DataFrame.\n",
      "Try using .loc[row_indexer,col_indexer] = value instead\n",
      "\n",
      "See the caveats in the documentation: http://pandas.pydata.org/pandas-docs/stable/indexing.html#indexing-view-versus-copy\n",
      "/Users/raimundoabrillopez/anaconda/lib/python3.5/site-packages/ipykernel/__main__.py:8: SettingWithCopyWarning: \n",
      "A value is trying to be set on a copy of a slice from a DataFrame.\n",
      "Try using .loc[row_indexer,col_indexer] = value instead\n",
      "\n",
      "See the caveats in the documentation: http://pandas.pydata.org/pandas-docs/stable/indexing.html#indexing-view-versus-copy\n",
      "/Users/raimundoabrillopez/anaconda/lib/python3.5/site-packages/ipykernel/__main__.py:9: SettingWithCopyWarning: \n",
      "A value is trying to be set on a copy of a slice from a DataFrame.\n",
      "Try using .loc[row_indexer,col_indexer] = value instead\n",
      "\n",
      "See the caveats in the documentation: http://pandas.pydata.org/pandas-docs/stable/indexing.html#indexing-view-versus-copy\n",
      "/Users/raimundoabrillopez/anaconda/lib/python3.5/site-packages/ipykernel/__main__.py:10: SettingWithCopyWarning: \n",
      "A value is trying to be set on a copy of a slice from a DataFrame.\n",
      "Try using .loc[row_indexer,col_indexer] = value instead\n",
      "\n",
      "See the caveats in the documentation: http://pandas.pydata.org/pandas-docs/stable/indexing.html#indexing-view-versus-copy\n",
      "/Users/raimundoabrillopez/anaconda/lib/python3.5/site-packages/ipykernel/__main__.py:11: SettingWithCopyWarning: \n",
      "A value is trying to be set on a copy of a slice from a DataFrame.\n",
      "Try using .loc[row_indexer,col_indexer] = value instead\n",
      "\n",
      "See the caveats in the documentation: http://pandas.pydata.org/pandas-docs/stable/indexing.html#indexing-view-versus-copy\n"
     ]
    }
   ],
   "source": [
    "ayu_edit_df['lat_OSM'] = ayu_edit_df['id_OSM'].apply(lambda x: get_lat(x))\n",
    "ayu_edit_df['lon_OSM'] = ayu_edit_df['id_OSM'].apply(lambda x: get_lon(x))\n",
    "ayu_edit_df['lat_OSM'] = ayu_edit_df['lat_OSM'].apply(lambda x: round(float(x),7))\n",
    "ayu_edit_df['lon_OSM'] = ayu_edit_df['lon_OSM'].apply(lambda x: round(float(x),7))\n",
    "ayu_edit_df['coord_OSM'] = list(zip(ayu_edit_df.lat_OSM, ayu_edit_df.lon_OSM))\n",
    "\n",
    "ayu_missing_df['lat_OSM'] = ayu_missing_df['id_OSM'].apply(lambda x: get_lat(x))\n",
    "ayu_missing_df['lon_OSM'] = ayu_missing_df['id_OSM'].apply(lambda x: get_lon(x))\n",
    "ayu_missing_df['lat_OSM'] = ayu_missing_df['lat_OSM'].apply(lambda x: round(float(x),7))\n",
    "ayu_missing_df['lon_OSM'] = ayu_missing_df['lon_OSM'].apply(lambda x: round(float(x),7))\n",
    "ayu_missing_df['coord_OSM'] = list(zip(ayu_missing_df.lat_OSM, ayu_missing_df.lon_OSM))"
   ]
  },
  {
   "cell_type": "code",
   "execution_count": 13,
   "metadata": {
    "collapsed": true
   },
   "outputs": [],
   "source": [
    "ayu_missing_df= ayu_missing_df.set_index('id_OSM')"
   ]
  },
  {
   "cell_type": "code",
   "execution_count": 14,
   "metadata": {
    "collapsed": true
   },
   "outputs": [],
   "source": [
    "ayu_edit_df = ayu_edit_df.set_index('id')"
   ]
  },
  {
   "cell_type": "code",
   "execution_count": 15,
   "metadata": {
    "collapsed": true
   },
   "outputs": [],
   "source": [
    "ayu_edit_df = ayu_edit_df.join(AYU, how='left')"
   ]
  },
  {
   "cell_type": "code",
   "execution_count": 16,
   "metadata": {
    "collapsed": true
   },
   "outputs": [],
   "source": [
    "ayu_no_df = AYU[AYU.index.isin(AYU_NO)]\n",
    "ayu_no_df.index.name = 'id'"
   ]
  },
  {
   "cell_type": "code",
   "execution_count": 17,
   "metadata": {},
   "outputs": [
    {
     "name": "stdout",
     "output_type": "stream",
     "text": [
      "Saving to files...\n"
     ]
    }
   ],
   "source": [
    "os.chdir('/Volumes/MacintoshHD/_GitHub/doctordata/api/csv/')\n",
    "print('Saving to files...')\n",
    "ayu_edit_df.to_csv(AYU_fichero[:-4]+'-edit.csv')\n",
    "ayu_no_df.to_csv(AYU_fichero[:-4]+'-missing_OSM.csv')\n",
    "ayu_missing_df.to_csv(AYU_fichero[:-4]+'-missing_AYU.csv')"
   ]
  },
  {
   "cell_type": "code",
   "execution_count": 39,
   "metadata": {},
   "outputs": [
    {
     "name": "stdout",
     "output_type": "stream",
     "text": [
      "<class 'pandas.core.frame.DataFrame'>\n",
      "Int64Index: 763 entries, 847920962 to 5282050788\n",
      "Data columns (total 4 columns):\n",
      "lat_OSM      763 non-null float64\n",
      "lon_OSM      763 non-null float64\n",
      "coord_OSM    763 non-null object\n",
      "distance     763 non-null float64\n",
      "dtypes: float64(3), object(1)\n",
      "memory usage: 29.8+ KB\n"
     ]
    }
   ],
   "source": [
    "ayu_missing_df.info()"
   ]
  },
  {
   "cell_type": "code",
   "execution_count": null,
   "metadata": {
    "collapsed": true
   },
   "outputs": [],
   "source": []
  },
  {
   "cell_type": "code",
   "execution_count": null,
   "metadata": {
    "collapsed": true
   },
   "outputs": [],
   "source": []
  },
  {
   "cell_type": "code",
   "execution_count": null,
   "metadata": {
    "collapsed": true
   },
   "outputs": [],
   "source": []
  },
  {
   "cell_type": "markdown",
   "metadata": {},
   "source": [
    "## Close to edit"
   ]
  },
  {
   "cell_type": "code",
   "execution_count": 33,
   "metadata": {
    "collapsed": true
   },
   "outputs": [],
   "source": [
    "os.chdir('/Volumes/MacintoshHD/_GitHub/doctordata/api/web/')"
   ]
  },
  {
   "cell_type": "code",
   "execution_count": 43,
   "metadata": {
    "collapsed": true
   },
   "outputs": [],
   "source": [
    "map = folium.Map(location=SF_COORDINATES, zoom_start=11,max_zoom=20, control_scale = True, prefer_canvas=True)\n",
    "marker_cluster = MarkerCluster().add_to(map)\n",
    "for i in range(len(AYU_CLOSE.id_OSM.values)):\n",
    "    folium.Marker(icon=folium.Icon(color='blue'),popup=folium.Popup(str(AYU_CLOSE.index.values[i]), parse_html=True),\n",
    "        location = (AYU_CLOSE.LATITUD.values[i],AYU_CLOSE.LONGITUD.values[i])).add_to(marker_cluster)\n",
    "map.save(AYU_fichero[:-4]+'-edit.html')"
   ]
  },
  {
   "cell_type": "markdown",
   "metadata": {},
   "source": [
    "## Missing in OSM"
   ]
  },
  {
   "cell_type": "code",
   "execution_count": 35,
   "metadata": {
    "collapsed": true
   },
   "outputs": [],
   "source": [
    "map = folium.Map(location=SF_COORDINATES, zoom_start=11,max_zoom=18, control_scale = True, prefer_canvas=True)\n",
    "marker_cluster = MarkerCluster().add_to(map)\n",
    "for i in range(len(AYU_NO.id_OSM.values[:100])):\n",
    "    folium.Marker(icon=folium.Icon(color='blue'),popup=folium.Popup(AYU_NO.index.values[i], parse_html=True),\n",
    "        location = (AYU_NO.LATITUD.values[i],AYU_NO.LONGITUD.values[i])).add_to(marker_cluster)\n",
    "map.save(AYU_fichero[:-4]+'-missing_OSM.html')"
   ]
  },
  {
   "cell_type": "markdown",
   "metadata": {},
   "source": [
    "## Missing in Ayu website"
   ]
  },
  {
   "cell_type": "code",
   "execution_count": 36,
   "metadata": {
    "collapsed": true
   },
   "outputs": [],
   "source": [
    "map = folium.Map(location=SF_COORDINATES, zoom_start=11,max_zoom=20, control_scale = True, prefer_canvas=True)\n",
    "marker_cluster = MarkerCluster().add_to(map)\n",
    "for i in range(len(AYU_MISSING.index.values)):\n",
    "    folium.Marker(icon=folium.Icon(color='green'),popup=folium.Popup(AYU_MISSING.index.values[i], parse_html=True),\n",
    "        location = (AYU_MISSING.lat_OSM.values[i],AYU_MISSING.lon_OSM.values[i])).add_to(marker_cluster)\n",
    "map.save(AYU_fichero[:-4]+'-missing_AYU.html')"
   ]
  },
  {
   "cell_type": "code",
   "execution_count": null,
   "metadata": {
    "collapsed": true
   },
   "outputs": [],
   "source": []
  },
  {
   "cell_type": "code",
   "execution_count": null,
   "metadata": {
    "collapsed": true
   },
   "outputs": [],
   "source": []
  }
 ],
 "metadata": {
  "kernelspec": {
   "display_name": "Python [conda root]",
   "language": "python",
   "name": "conda-root-py"
  },
  "language_info": {
   "codemirror_mode": {
    "name": "ipython",
    "version": 3
   },
   "file_extension": ".py",
   "mimetype": "text/x-python",
   "name": "python",
   "nbconvert_exporter": "python",
   "pygments_lexer": "ipython3",
   "version": "3.5.3"
  }
 },
 "nbformat": 4,
 "nbformat_minor": 2
}
