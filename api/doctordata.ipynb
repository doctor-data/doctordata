{
 "cells": [
  {
   "cell_type": "markdown",
   "metadata": {},
   "source": [
    "# Scripts que devuelve las diferencias entre los ficheros"
   ]
  },
  {
   "cell_type": "markdown",
   "metadata": {},
   "source": [
    "Importamos"
   ]
  },
  {
   "cell_type": "code",
   "execution_count": 62,
   "metadata": {},
   "outputs": [
    {
     "name": "stdout",
     "output_type": "stream",
     "text": [
      "Importing libraries...\n"
     ]
    }
   ],
   "source": [
    "\"\"\"\n",
    "    This is the main function.\n",
    "\"\"\"\n",
    "print('Importing libraries...')\n",
    "import json\n",
    "import os\n",
    "import pandas as pd\n",
    "from difflib import SequenceMatcher\n",
    "import jellyfish\n",
    "from geopy.geocoders import Nominatim\n",
    "geolocator = Nominatim()\n",
    "from geopy.distance import great_circle\n",
    "import folium\n",
    "from folium.plugins import MarkerCluster\n",
    "from convertbng.util import convert_bng, convert_lonlat, convert_etrs89_to_lonlat\n",
    "import overpass\n",
    "import sys"
   ]
  },
  {
   "cell_type": "code",
   "execution_count": 63,
   "metadata": {},
   "outputs": [
    {
     "name": "stdout",
     "output_type": "stream",
     "text": [
      "Defining functions...\n"
     ]
    }
   ],
   "source": [
    "# Functions to work\n",
    "print('Defining functions...')\n",
    "def get_id(x):\n",
    "    try:\n",
    "        for i in range(len(ids)):\n",
    "            point = [lat[i],lon[i]]\n",
    "            if getDistance_meters(x,point) <results[fichero]['distance_SAME']:\n",
    "                ayu[i] = x\n",
    "                return ids[i]\n",
    "        return 'No match'\n",
    "    except:\n",
    "        return 'No match'\n",
    "\n",
    "def get_close(x):\n",
    "    try:\n",
    "        for i in range(len(ids)):\n",
    "            point = [lat[i],lon[i]]\n",
    "            if getDistance_meters(x,point) <results[fichero]['distance_CLOSE']:\n",
    "                ayu[i] = x\n",
    "                return ids[i]\n",
    "        return 'No match'\n",
    "    except:\n",
    "        return 'No match'\n",
    "\n",
    "def get_lat(x):\n",
    "    try:\n",
    "        ind = ids.index(x)\n",
    "        return float(lat[ind])\n",
    "    except:\n",
    "        return None\n",
    "\n",
    "def get_lon(x):\n",
    "    try:\n",
    "        ind = ids.index(x)\n",
    "        return float(lon[ind])\n",
    "    except:\n",
    "        return None\n",
    "\n",
    "def get_name(x):\n",
    "    try:\n",
    "        ind = ids.index(x)\n",
    "        return name[ind]\n",
    "    except:\n",
    "        return None\n",
    "\n",
    "def get_score(x):\n",
    "    return getDistance_meters([x.lat_OSM, x.lon_OSM],[x.LATITUD, x.LONGITUD])\n",
    "\n",
    "def getDistance_meters(x,y):\n",
    "    try:\n",
    "        return great_circle(x, y).kilometers*1000.0\n",
    "    except:\n",
    "        return 0"
   ]
  },
  {
   "cell_type": "code",
   "execution_count": 64,
   "metadata": {
    "collapsed": true
   },
   "outputs": [],
   "source": [
    "first_arg = sys.argv[1]"
   ]
  },
  {
   "cell_type": "code",
   "execution_count": 65,
   "metadata": {},
   "outputs": [
    {
     "data": {
      "text/plain": [
       "['20170614-BANCOS.csv',\n",
       " '20170614-PAPELERAS.csv',\n",
       " '20171110-InventarioFuentes-edit.csv',\n",
       " '20171110-InventarioFuentes-missing_AYU.csv',\n",
       " '20171110-InventarioFuentes.csv',\n",
       " 'anexo i monumentos.xls',\n",
       " 'doctordata.py',\n",
       " 'indice.csv']"
      ]
     },
     "execution_count": 65,
     "metadata": {},
     "output_type": "execute_result"
    }
   ],
   "source": [
    "os.chdir('/Volumes/MacintoshHD/_GitHub/doctordata/api/data/')\n",
    "os.listdir()"
   ]
  },
  {
   "cell_type": "code",
   "execution_count": 66,
   "metadata": {
    "collapsed": true
   },
   "outputs": [],
   "source": [
    "AYU_fichero = '20171110-InventarioFuentes.csv'\n",
    "# Function to pass argument in terminal\n",
    "try:\n",
    "    if (first_arg != '-f'):\n",
    "        AYU_fichero = first_arg\n",
    "except:\n",
    "    pass"
   ]
  },
  {
   "cell_type": "code",
   "execution_count": 67,
   "metadata": {},
   "outputs": [
    {
     "name": "stdout",
     "output_type": "stream",
     "text": [
      "Opening files and ensuring naming convention...\n",
      "Total OSM entities found:  1639\n",
      "Total MAD entities found:  1605\n"
     ]
    }
   ],
   "source": [
    "#Center coordinates\n",
    "SF_COORDINATES = (40.4168, -3.7038)\n",
    "\n",
    "# for speed purposes\n",
    "MAX_RECORDS = 10\n",
    "\n",
    "\n",
    "\n",
    "print('Opening files and ensuring naming convention...')\n",
    "os.chdir('/Volumes/MacintoshHD/_GitHub/doctordata/api/data/')\n",
    "indice = pd.read_csv('indice.csv',index_col=0,encoding='latin-1',delimiter=';')\n",
    "\n",
    "results = {}\n",
    "for key, df_gb in indice.groupby(indice.index):\n",
    "    results[str(key)] = df_gb.to_dict('list')\n",
    "\n",
    "for key in results.keys():\n",
    "    results[key]['SEARCH'] = results[key]['SEARCH'][0][1:-1]\n",
    "    results[key]['distance_CLOSE'] = results[key]['distance_CLOSE'][0]\n",
    "    results[key]['distance_SAME'] = results[key]['distance_SAME'][0]\n",
    "    results[key]['palabra'] = results[key]['palabra'][0]\n",
    "\n",
    "\n",
    "fichero = []\n",
    "for key in results.keys():\n",
    "    if AYU_fichero.split('-')[1][:-4] == results[key]['palabra']:\n",
    "        fichero = key\n",
    "\n",
    "search = 'area[\"name\"=\"Madrid\"];node(area)['+results[fichero]['SEARCH']+'];'\n",
    "\n",
    "api = overpass.API()\n",
    "OSM = api.Get(search)\n",
    "\n",
    "#OSM['features'][0]\n",
    "\n",
    "\n",
    "# Create searching arrays\n",
    "\n",
    "ids = [OSM['features'][i]['id'] for i in range(len(OSM['features']))]\n",
    "lat = [OSM['features'][i]['geometry']['coordinates'][1] for i in range(len(OSM['features']))]\n",
    "lon = [OSM['features'][i]['geometry']['coordinates'][0] for i in range(len(OSM['features']))]\n",
    "osm = list(zip(ids,lat,lon))\n",
    "#name = [OSM['features'][i]['properties']['name'] for i in range(len(OSM['features']))]\n",
    "ayu = ids[:]\n",
    "print('Total OSM entities found: ',str(len(ayu)))\n",
    "\n",
    "# Add ayuntamiento data\n",
    "#results[fichero]['DOCTORDATA'][1:]\n",
    "AYU = pd.read_csv(AYU_fichero, encoding='latin-1', delimiter=';',index_col=0)\n",
    "AYU.columns = [x.upper() for x in AYU.columns.values]\n",
    "\n",
    "print('Total MAD entities found: ', str(AYU.count().max()))\n",
    "if AYU_fichero == '20171110_InventarioFuentes.csv':\n",
    "    AYU.columns = results[fichero]['DOCTORDATA'][1:]\n",
    "\n",
    "try:\n",
    "    AYU = AYU[AYU.LATITUD != 'Error']\n",
    "    AYU = AYU[AYU.LONGITUD != 'Error']\n",
    "except:\n",
    "    print('No errors!')\n",
    "\n",
    "AYU.LATITUD = AYU.LATITUD.astype('float32')\n",
    "AYU.LONGITUD = AYU.LONGITUD.astype('float32')\n",
    "AYU = AYU.sort_values('LATITUD')\n",
    "#AYU['X_ETRS89'] = AYU['X_ETRS89'].apply(lambda x: float(x.replace(',','.')))\n",
    "#AYU['Y_ETRS89'] = AYU['Y_ETRS89'].apply(lambda x: float(x.replace(',','.')))\n",
    "AYU['coord'] = list(zip(AYU.LATITUD, AYU.LONGITUD))\n",
    "#AYU = AYU[:200]"
   ]
  },
  {
   "cell_type": "code",
   "execution_count": 68,
   "metadata": {
    "collapsed": true
   },
   "outputs": [],
   "source": [
    "columns = ['id_OSM','lat_OSM','lon_OSM']\n",
    "osm_df = pd.DataFrame(osm, columns=columns)\n",
    "osm_df['coord_OSM'] = osm_df.apply(lambda x: (x.lat_OSM,x.lon_OSM), axis=1)\n",
    "AYU_OK = []\n",
    "AYU_EDIT = []\n",
    "AYU_NO = []"
   ]
  },
  {
   "cell_type": "code",
   "execution_count": 69,
   "metadata": {},
   "outputs": [],
   "source": [
    "for index,row in AYU.iterrows():\n",
    "    osm_df['distance'] = osm_df.apply(lambda x: getDistance_meters(x.coord_OSM,row.coord),axis=1)\n",
    "    osm_df = osm_df.sort_values('distance')\n",
    "    \n",
    "    if osm_df['distance'].head(1).values < 10:\n",
    "        AYU_OK.append([index,osm_df.head(1)['id_OSM'].values[0], osm_df.head(1)['distance'].values[0]])\n",
    "    elif osm_df['distance'].head(1).values < 50:\n",
    "        AYU_EDIT.append([index,osm_df.head(1)['id_OSM'].values[0], osm_df.head(1)['distance'].values[0]])\n",
    "    else:\n",
    "        AYU_NO.append([index,osm_df.head(1)['id_OSM'].values[0], osm_df.head(1)['distance'].values[0]])"
   ]
  },
  {
   "cell_type": "code",
   "execution_count": 97,
   "metadata": {},
   "outputs": [],
   "source": [
    "columns = ['CODIGO', 'id_OSM', 'distance']\n",
    "ayu_ok_df = pd.DataFrame(AYU_OK, columns=columns)\n",
    "ayu_edit_df = pd.DataFrame(AYU_EDIT, columns=columns)"
   ]
  },
  {
   "cell_type": "code",
   "execution_count": 98,
   "metadata": {},
   "outputs": [],
   "source": [
    "osm_df = osm_df.sort_values('id_OSM')\n",
    "ayu_ok_df = ayu_ok_df.sort_values('id_OSM')\n",
    "ayu_edit_df = ayu_edit_df.sort_values('id_OSM')"
   ]
  },
  {
   "cell_type": "code",
   "execution_count": 99,
   "metadata": {},
   "outputs": [],
   "source": [
    "ayu_missing_df = osm_df[~osm_df.id_OSM.isin(list(ayu_ok_df.id_OSM.values))]"
   ]
  },
  {
   "cell_type": "code",
   "execution_count": 100,
   "metadata": {},
   "outputs": [
    {
     "name": "stderr",
     "output_type": "stream",
     "text": [
      "/Users/raimundoabrillopez/anaconda/lib/python3.5/site-packages/ipykernel/__main__.py:7: SettingWithCopyWarning: \n",
      "A value is trying to be set on a copy of a slice from a DataFrame.\n",
      "Try using .loc[row_indexer,col_indexer] = value instead\n",
      "\n",
      "See the caveats in the documentation: http://pandas.pydata.org/pandas-docs/stable/indexing.html#indexing-view-versus-copy\n",
      "/Users/raimundoabrillopez/anaconda/lib/python3.5/site-packages/ipykernel/__main__.py:8: SettingWithCopyWarning: \n",
      "A value is trying to be set on a copy of a slice from a DataFrame.\n",
      "Try using .loc[row_indexer,col_indexer] = value instead\n",
      "\n",
      "See the caveats in the documentation: http://pandas.pydata.org/pandas-docs/stable/indexing.html#indexing-view-versus-copy\n",
      "/Users/raimundoabrillopez/anaconda/lib/python3.5/site-packages/ipykernel/__main__.py:9: SettingWithCopyWarning: \n",
      "A value is trying to be set on a copy of a slice from a DataFrame.\n",
      "Try using .loc[row_indexer,col_indexer] = value instead\n",
      "\n",
      "See the caveats in the documentation: http://pandas.pydata.org/pandas-docs/stable/indexing.html#indexing-view-versus-copy\n",
      "/Users/raimundoabrillopez/anaconda/lib/python3.5/site-packages/ipykernel/__main__.py:10: SettingWithCopyWarning: \n",
      "A value is trying to be set on a copy of a slice from a DataFrame.\n",
      "Try using .loc[row_indexer,col_indexer] = value instead\n",
      "\n",
      "See the caveats in the documentation: http://pandas.pydata.org/pandas-docs/stable/indexing.html#indexing-view-versus-copy\n",
      "/Users/raimundoabrillopez/anaconda/lib/python3.5/site-packages/ipykernel/__main__.py:11: SettingWithCopyWarning: \n",
      "A value is trying to be set on a copy of a slice from a DataFrame.\n",
      "Try using .loc[row_indexer,col_indexer] = value instead\n",
      "\n",
      "See the caveats in the documentation: http://pandas.pydata.org/pandas-docs/stable/indexing.html#indexing-view-versus-copy\n"
     ]
    }
   ],
   "source": [
    "ayu_edit_df['lat_OSM'] = ayu_edit_df['id_OSM'].apply(lambda x: get_lat(x))\n",
    "ayu_edit_df['lon_OSM'] = ayu_edit_df['id_OSM'].apply(lambda x: get_lon(x))\n",
    "ayu_edit_df['lat_OSM'] = ayu_edit_df['lat_OSM'].apply(lambda x: round(float(x),7))\n",
    "ayu_edit_df['lon_OSM'] = ayu_edit_df['lon_OSM'].apply(lambda x: round(float(x),7))\n",
    "ayu_edit_df['coord_OSM'] = list(zip(ayu_edit_df.lat_OSM, ayu_edit_df.lon_OSM))\n",
    "\n",
    "ayu_missing_df['lat_OSM'] = ayu_missing_df['id_OSM'].apply(lambda x: get_lat(x))\n",
    "ayu_missing_df['lon_OSM'] = ayu_missing_df['id_OSM'].apply(lambda x: get_lon(x))\n",
    "ayu_missing_df['lat_OSM'] = ayu_missing_df['lat_OSM'].apply(lambda x: round(float(x),7))\n",
    "ayu_missing_df['lon_OSM'] = ayu_missing_df['lon_OSM'].apply(lambda x: round(float(x),7))\n",
    "ayu_missing_df['coord_OSM'] = list(zip(ayu_missing_df.lat_OSM, ayu_missing_df.lon_OSM))"
   ]
  },
  {
   "cell_type": "code",
   "execution_count": 102,
   "metadata": {},
   "outputs": [],
   "source": [
    "ayu_edit_df= ayu_edit_df.set_index('CODIGO')\n",
    "ayu_missing_df= ayu_missing_df.set_index('id_OSM')"
   ]
  },
  {
   "cell_type": "code",
   "execution_count": 106,
   "metadata": {},
   "outputs": [
    {
     "ename": "AttributeError",
     "evalue": "module 'pandas' has no attribute 'join'",
     "output_type": "error",
     "traceback": [
      "\u001b[0;31m---------------------------------------------------------------------------\u001b[0m",
      "\u001b[0;31mAttributeError\u001b[0m                            Traceback (most recent call last)",
      "\u001b[0;32m<ipython-input-106-7f46109012fa>\u001b[0m in \u001b[0;36m<module>\u001b[0;34m()\u001b[0m\n\u001b[0;32m----> 1\u001b[0;31m \u001b[0mayu_edit_df\u001b[0m \u001b[0;34m=\u001b[0m \u001b[0mpd\u001b[0m\u001b[0;34m.\u001b[0m\u001b[0mjoin\u001b[0m\u001b[0;34m(\u001b[0m\u001b[0;34m[\u001b[0m\u001b[0mayu_edit_df\u001b[0m\u001b[0;34m,\u001b[0m \u001b[0mAYU\u001b[0m\u001b[0;34m]\u001b[0m\u001b[0;34m,\u001b[0m \u001b[0maxis\u001b[0m\u001b[0;34m=\u001b[0m\u001b[0;36m1\u001b[0m\u001b[0;34m,\u001b[0m \u001b[0mjoin\u001b[0m\u001b[0;34m=\u001b[0m\u001b[0;34m'inner'\u001b[0m\u001b[0;34m)\u001b[0m\u001b[0;34m\u001b[0m\u001b[0m\n\u001b[0m",
      "\u001b[0;31mAttributeError\u001b[0m: module 'pandas' has no attribute 'join'"
     ]
    }
   ],
   "source": [
    "ayu_edit_df = pd.join([ayu_edit_df, AYU], axis=1, join='inner')"
   ]
  },
  {
   "cell_type": "code",
   "execution_count": null,
   "metadata": {},
   "outputs": [],
   "source": [
    "os.chdir('/Volumes/MacintoshHD/_GitHub/doctordata/api/csv/')\n",
    "print('Saving to files...')\n",
    "ayu_edit_df.to_csv(AYU_fichero[:-4]+'-edit.csv')\n",
    "#AYU_NO.to_csv(AYU_fichero[:-4]+'-missing_OSM.csv')\n",
    "ayu_missing_df.to_csv(AYU_fichero[:-4]+'-missing_AYU.csv')"
   ]
  },
  {
   "cell_type": "code",
   "execution_count": null,
   "metadata": {
    "collapsed": true
   },
   "outputs": [],
   "source": []
  },
  {
   "cell_type": "code",
   "execution_count": null,
   "metadata": {
    "collapsed": true
   },
   "outputs": [],
   "source": []
  },
  {
   "cell_type": "code",
   "execution_count": null,
   "metadata": {
    "collapsed": true
   },
   "outputs": [],
   "source": []
  },
  {
   "cell_type": "code",
   "execution_count": null,
   "metadata": {
    "collapsed": true
   },
   "outputs": [],
   "source": []
  },
  {
   "cell_type": "code",
   "execution_count": 24,
   "metadata": {},
   "outputs": [
    {
     "name": "stdout",
     "output_type": "stream",
     "text": [
      "Get id matching....\n"
     ]
    }
   ],
   "source": [
    "print('Get id matching....')\n",
    "AYU.id_OSM = AYU.coord.apply(lambda x: get_id(x))\n",
    "AYU_NO = AYU[AYU.id_OSM == 'No match']\n",
    "AYU_OK = AYU[AYU.id_OSM != 'No match']\n",
    "AYU_CLOSE = AYU_NO.copy()"
   ]
  },
  {
   "cell_type": "code",
   "execution_count": 7,
   "metadata": {},
   "outputs": [
    {
     "name": "stdout",
     "output_type": "stream",
     "text": [
      "Opening files and ensuring naming convention...\n",
      "Total OSM entities found:  1639\n"
     ]
    },
    {
     "ename": "FileNotFoundError",
     "evalue": "File b'20171110_InventarioFuentes.csv' does not exist",
     "output_type": "error",
     "traceback": [
      "\u001b[0;31m---------------------------------------------------------------------------\u001b[0m",
      "\u001b[0;31mFileNotFoundError\u001b[0m                         Traceback (most recent call last)",
      "\u001b[0;32m<ipython-input-7-9b516a6f9872>\u001b[0m in \u001b[0;36m<module>\u001b[0;34m()\u001b[0m\n\u001b[1;32m     46\u001b[0m \u001b[0;31m# Add ayuntamiento data\u001b[0m\u001b[0;34m\u001b[0m\u001b[0;34m\u001b[0m\u001b[0m\n\u001b[1;32m     47\u001b[0m \u001b[0;31m#results[fichero]['DOCTORDATA'][1:]\u001b[0m\u001b[0;34m\u001b[0m\u001b[0;34m\u001b[0m\u001b[0m\n\u001b[0;32m---> 48\u001b[0;31m \u001b[0mAYU\u001b[0m \u001b[0;34m=\u001b[0m \u001b[0mpd\u001b[0m\u001b[0;34m.\u001b[0m\u001b[0mread_csv\u001b[0m\u001b[0;34m(\u001b[0m\u001b[0mAYU_fichero\u001b[0m\u001b[0;34m,\u001b[0m \u001b[0mencoding\u001b[0m\u001b[0;34m=\u001b[0m\u001b[0;34m'latin-1'\u001b[0m\u001b[0;34m,\u001b[0m \u001b[0mdelimiter\u001b[0m\u001b[0;34m=\u001b[0m\u001b[0;34m';'\u001b[0m\u001b[0;34m,\u001b[0m\u001b[0mindex_col\u001b[0m\u001b[0;34m=\u001b[0m\u001b[0;36m0\u001b[0m\u001b[0;34m)\u001b[0m\u001b[0;34m\u001b[0m\u001b[0m\n\u001b[0m\u001b[1;32m     49\u001b[0m \u001b[0mAYU\u001b[0m\u001b[0;34m.\u001b[0m\u001b[0mcolumns\u001b[0m \u001b[0;34m=\u001b[0m \u001b[0;34m[\u001b[0m\u001b[0mx\u001b[0m\u001b[0;34m.\u001b[0m\u001b[0mupper\u001b[0m\u001b[0;34m(\u001b[0m\u001b[0;34m)\u001b[0m \u001b[0;32mfor\u001b[0m \u001b[0mx\u001b[0m \u001b[0;32min\u001b[0m \u001b[0mAYU\u001b[0m\u001b[0;34m.\u001b[0m\u001b[0mcolumns\u001b[0m\u001b[0;34m.\u001b[0m\u001b[0mvalues\u001b[0m\u001b[0;34m]\u001b[0m\u001b[0;34m\u001b[0m\u001b[0m\n\u001b[1;32m     50\u001b[0m \u001b[0;34m\u001b[0m\u001b[0m\n",
      "\u001b[0;32m/Users/raimundoabrillopez/anaconda/lib/python3.5/site-packages/pandas/io/parsers.py\u001b[0m in \u001b[0;36mparser_f\u001b[0;34m(filepath_or_buffer, sep, delimiter, header, names, index_col, usecols, squeeze, prefix, mangle_dupe_cols, dtype, engine, converters, true_values, false_values, skipinitialspace, skiprows, nrows, na_values, keep_default_na, na_filter, verbose, skip_blank_lines, parse_dates, infer_datetime_format, keep_date_col, date_parser, dayfirst, iterator, chunksize, compression, thousands, decimal, lineterminator, quotechar, quoting, escapechar, comment, encoding, dialect, tupleize_cols, error_bad_lines, warn_bad_lines, skipfooter, skip_footer, doublequote, delim_whitespace, as_recarray, compact_ints, use_unsigned, low_memory, buffer_lines, memory_map, float_precision)\u001b[0m\n\u001b[1;32m    653\u001b[0m                     skip_blank_lines=skip_blank_lines)\n\u001b[1;32m    654\u001b[0m \u001b[0;34m\u001b[0m\u001b[0m\n\u001b[0;32m--> 655\u001b[0;31m         \u001b[0;32mreturn\u001b[0m \u001b[0m_read\u001b[0m\u001b[0;34m(\u001b[0m\u001b[0mfilepath_or_buffer\u001b[0m\u001b[0;34m,\u001b[0m \u001b[0mkwds\u001b[0m\u001b[0;34m)\u001b[0m\u001b[0;34m\u001b[0m\u001b[0m\n\u001b[0m\u001b[1;32m    656\u001b[0m \u001b[0;34m\u001b[0m\u001b[0m\n\u001b[1;32m    657\u001b[0m     \u001b[0mparser_f\u001b[0m\u001b[0;34m.\u001b[0m\u001b[0m__name__\u001b[0m \u001b[0;34m=\u001b[0m \u001b[0mname\u001b[0m\u001b[0;34m\u001b[0m\u001b[0m\n",
      "\u001b[0;32m/Users/raimundoabrillopez/anaconda/lib/python3.5/site-packages/pandas/io/parsers.py\u001b[0m in \u001b[0;36m_read\u001b[0;34m(filepath_or_buffer, kwds)\u001b[0m\n\u001b[1;32m    403\u001b[0m \u001b[0;34m\u001b[0m\u001b[0m\n\u001b[1;32m    404\u001b[0m     \u001b[0;31m# Create the parser.\u001b[0m\u001b[0;34m\u001b[0m\u001b[0;34m\u001b[0m\u001b[0m\n\u001b[0;32m--> 405\u001b[0;31m     \u001b[0mparser\u001b[0m \u001b[0;34m=\u001b[0m \u001b[0mTextFileReader\u001b[0m\u001b[0;34m(\u001b[0m\u001b[0mfilepath_or_buffer\u001b[0m\u001b[0;34m,\u001b[0m \u001b[0;34m**\u001b[0m\u001b[0mkwds\u001b[0m\u001b[0;34m)\u001b[0m\u001b[0;34m\u001b[0m\u001b[0m\n\u001b[0m\u001b[1;32m    406\u001b[0m \u001b[0;34m\u001b[0m\u001b[0m\n\u001b[1;32m    407\u001b[0m     \u001b[0;32mif\u001b[0m \u001b[0mchunksize\u001b[0m \u001b[0;32mor\u001b[0m \u001b[0miterator\u001b[0m\u001b[0;34m:\u001b[0m\u001b[0;34m\u001b[0m\u001b[0m\n",
      "\u001b[0;32m/Users/raimundoabrillopez/anaconda/lib/python3.5/site-packages/pandas/io/parsers.py\u001b[0m in \u001b[0;36m__init__\u001b[0;34m(self, f, engine, **kwds)\u001b[0m\n\u001b[1;32m    762\u001b[0m             \u001b[0mself\u001b[0m\u001b[0;34m.\u001b[0m\u001b[0moptions\u001b[0m\u001b[0;34m[\u001b[0m\u001b[0;34m'has_index_names'\u001b[0m\u001b[0;34m]\u001b[0m \u001b[0;34m=\u001b[0m \u001b[0mkwds\u001b[0m\u001b[0;34m[\u001b[0m\u001b[0;34m'has_index_names'\u001b[0m\u001b[0;34m]\u001b[0m\u001b[0;34m\u001b[0m\u001b[0m\n\u001b[1;32m    763\u001b[0m \u001b[0;34m\u001b[0m\u001b[0m\n\u001b[0;32m--> 764\u001b[0;31m         \u001b[0mself\u001b[0m\u001b[0;34m.\u001b[0m\u001b[0m_make_engine\u001b[0m\u001b[0;34m(\u001b[0m\u001b[0mself\u001b[0m\u001b[0;34m.\u001b[0m\u001b[0mengine\u001b[0m\u001b[0;34m)\u001b[0m\u001b[0;34m\u001b[0m\u001b[0m\n\u001b[0m\u001b[1;32m    765\u001b[0m \u001b[0;34m\u001b[0m\u001b[0m\n\u001b[1;32m    766\u001b[0m     \u001b[0;32mdef\u001b[0m \u001b[0mclose\u001b[0m\u001b[0;34m(\u001b[0m\u001b[0mself\u001b[0m\u001b[0;34m)\u001b[0m\u001b[0;34m:\u001b[0m\u001b[0;34m\u001b[0m\u001b[0m\n",
      "\u001b[0;32m/Users/raimundoabrillopez/anaconda/lib/python3.5/site-packages/pandas/io/parsers.py\u001b[0m in \u001b[0;36m_make_engine\u001b[0;34m(self, engine)\u001b[0m\n\u001b[1;32m    983\u001b[0m     \u001b[0;32mdef\u001b[0m \u001b[0m_make_engine\u001b[0m\u001b[0;34m(\u001b[0m\u001b[0mself\u001b[0m\u001b[0;34m,\u001b[0m \u001b[0mengine\u001b[0m\u001b[0;34m=\u001b[0m\u001b[0;34m'c'\u001b[0m\u001b[0;34m)\u001b[0m\u001b[0;34m:\u001b[0m\u001b[0;34m\u001b[0m\u001b[0m\n\u001b[1;32m    984\u001b[0m         \u001b[0;32mif\u001b[0m \u001b[0mengine\u001b[0m \u001b[0;34m==\u001b[0m \u001b[0;34m'c'\u001b[0m\u001b[0;34m:\u001b[0m\u001b[0;34m\u001b[0m\u001b[0m\n\u001b[0;32m--> 985\u001b[0;31m             \u001b[0mself\u001b[0m\u001b[0;34m.\u001b[0m\u001b[0m_engine\u001b[0m \u001b[0;34m=\u001b[0m \u001b[0mCParserWrapper\u001b[0m\u001b[0;34m(\u001b[0m\u001b[0mself\u001b[0m\u001b[0;34m.\u001b[0m\u001b[0mf\u001b[0m\u001b[0;34m,\u001b[0m \u001b[0;34m**\u001b[0m\u001b[0mself\u001b[0m\u001b[0;34m.\u001b[0m\u001b[0moptions\u001b[0m\u001b[0;34m)\u001b[0m\u001b[0;34m\u001b[0m\u001b[0m\n\u001b[0m\u001b[1;32m    986\u001b[0m         \u001b[0;32melse\u001b[0m\u001b[0;34m:\u001b[0m\u001b[0;34m\u001b[0m\u001b[0m\n\u001b[1;32m    987\u001b[0m             \u001b[0;32mif\u001b[0m \u001b[0mengine\u001b[0m \u001b[0;34m==\u001b[0m \u001b[0;34m'python'\u001b[0m\u001b[0;34m:\u001b[0m\u001b[0;34m\u001b[0m\u001b[0m\n",
      "\u001b[0;32m/Users/raimundoabrillopez/anaconda/lib/python3.5/site-packages/pandas/io/parsers.py\u001b[0m in \u001b[0;36m__init__\u001b[0;34m(self, src, **kwds)\u001b[0m\n\u001b[1;32m   1603\u001b[0m         \u001b[0mkwds\u001b[0m\u001b[0;34m[\u001b[0m\u001b[0;34m'allow_leading_cols'\u001b[0m\u001b[0;34m]\u001b[0m \u001b[0;34m=\u001b[0m \u001b[0mself\u001b[0m\u001b[0;34m.\u001b[0m\u001b[0mindex_col\u001b[0m \u001b[0;32mis\u001b[0m \u001b[0;32mnot\u001b[0m \u001b[0;32mFalse\u001b[0m\u001b[0;34m\u001b[0m\u001b[0m\n\u001b[1;32m   1604\u001b[0m \u001b[0;34m\u001b[0m\u001b[0m\n\u001b[0;32m-> 1605\u001b[0;31m         \u001b[0mself\u001b[0m\u001b[0;34m.\u001b[0m\u001b[0m_reader\u001b[0m \u001b[0;34m=\u001b[0m \u001b[0mparsers\u001b[0m\u001b[0;34m.\u001b[0m\u001b[0mTextReader\u001b[0m\u001b[0;34m(\u001b[0m\u001b[0msrc\u001b[0m\u001b[0;34m,\u001b[0m \u001b[0;34m**\u001b[0m\u001b[0mkwds\u001b[0m\u001b[0;34m)\u001b[0m\u001b[0;34m\u001b[0m\u001b[0m\n\u001b[0m\u001b[1;32m   1606\u001b[0m \u001b[0;34m\u001b[0m\u001b[0m\n\u001b[1;32m   1607\u001b[0m         \u001b[0;31m# XXX\u001b[0m\u001b[0;34m\u001b[0m\u001b[0;34m\u001b[0m\u001b[0m\n",
      "\u001b[0;32mpandas/_libs/parsers.pyx\u001b[0m in \u001b[0;36mpandas._libs.parsers.TextReader.__cinit__ (pandas/_libs/parsers.c:4209)\u001b[0;34m()\u001b[0m\n",
      "\u001b[0;32mpandas/_libs/parsers.pyx\u001b[0m in \u001b[0;36mpandas._libs.parsers.TextReader._setup_parser_source (pandas/_libs/parsers.c:8873)\u001b[0;34m()\u001b[0m\n",
      "\u001b[0;31mFileNotFoundError\u001b[0m: File b'20171110_InventarioFuentes.csv' does not exist"
     ]
    }
   ],
   "source": [
    "print('Get close entities...')\n",
    "AYU_CLOSE.id_OSM = AYU_NO.coord.apply(lambda x: get_close(x))\n",
    "AYU_NO = AYU_CLOSE[AYU_CLOSE.id_OSM == 'No match']\n",
    "AYU_CLOSE = AYU_CLOSE[AYU_CLOSE.id_OSM != 'No match']\n",
    "\n",
    "AYU = pd.concat([AYU_OK, AYU_CLOSE, AYU_NO])\n",
    "\n",
    "print('Geolocating from OSM...')\n",
    "AYU.lat_OSM = AYU.id_OSM.apply(lambda x: get_lat(x))\n",
    "AYU.lon_OSM = AYU.id_OSM.apply(lambda x: get_lon(x))\n",
    "AYU['coord'] = list(zip(AYU.lat_OSM, AYU.lon_OSM))\n",
    "AYU.score_OSM = AYU.apply(lambda x: get_score(x), axis=1)\n",
    "AYU['coord_OSM'] = list(zip(AYU.lat_OSM, AYU.lon_OSM))\n",
    "\n",
    "try:\n",
    "    AYU_CLOSE.lat_OSM = AYU_CLOSE.id_OSM.apply(lambda x: get_lat(x))\n",
    "    AYU_CLOSE.lon_OSM = AYU_CLOSE.id_OSM.apply(lambda x: get_lon(x))\n",
    "    AYU_CLOSE['coord'] = list(zip(AYU_CLOSE.lat_OSM, AYU_CLOSE.lon_OSM))\n",
    "    AYU_CLOSE.score_OSM = AYU_CLOSE.apply(lambda x: get_score(x), axis=1)\n",
    "    AYU_CLOSE['coord_OSM'] = list(zip(AYU_CLOSE.lat_OSM, AYU_CLOSE.lon_OSM))\n",
    "except:\n",
    "    print('No close')\n",
    "\n",
    "AYU_NO.lat_OSM = AYU_NO.id_OSM.apply(lambda x: get_lat(x))\n",
    "AYU_NO.lon_OSM = AYU_NO.id_OSM.apply(lambda x: get_lon(x))\n",
    "AYU_NO['coord'] = list(zip(AYU_NO.lat_OSM, AYU_NO.lon_OSM))\n",
    "AYU_NO.score_OSM = AYU_NO.apply(lambda x: get_score(x), axis=1)\n",
    "AYU_NO['coord_OSM'] = list(zip(AYU_NO.lat_OSM, AYU_NO.lon_OSM))\n",
    "\n",
    "AYU = AYU.sort_values('score_OSM')\n",
    "#AYU.name_OSM = AYU.id_OSM.apply(lambda x: get_name(x))\n",
    "\n",
    "print('Creating missing Dataframe...')\n",
    "AYU_MISSING = []\n",
    "for i in range(len(ids)):\n",
    "    AYU_MISSING.append((ids[i],lat[i],lon[i]))\n",
    "\n",
    "AYU_MISSING = pd.DataFrame(AYU_MISSING)\n",
    "AYU_MISSING.columns = ['id_OSM','lat_OSM','lon_OSM']\n",
    "\n",
    "AYU_MISSING = AYU_MISSING.set_index('id_OSM')\n",
    "AYU_MISSING['coord'] = list(zip(AYU_MISSING.lat_OSM.values, AYU_MISSING.lon_OSM.values))\n",
    "\n",
    "os.chdir('/Volumes/MacintoshHD/_GitHub/doctordata/api/csv/')\n",
    "print('Saving to files...')\n",
    "AYU_CLOSE.to_csv(AYU_fichero[:-4]+'-edit.csv')\n",
    "AYU_NO.to_csv(AYU_fichero[:-4]+'-missing_OSM.csv')\n",
    "AYU_MISSING.to_csv(AYU_fichero[:-4]+'-missing_AYU.csv')\n"
   ]
  },
  {
   "cell_type": "markdown",
   "metadata": {},
   "source": [
    "## Close to edit"
   ]
  },
  {
   "cell_type": "code",
   "execution_count": 33,
   "metadata": {
    "collapsed": true
   },
   "outputs": [],
   "source": [
    "os.chdir('/Volumes/MacintoshHD/_GitHub/doctordata/api/web/')"
   ]
  },
  {
   "cell_type": "code",
   "execution_count": 43,
   "metadata": {
    "collapsed": true
   },
   "outputs": [],
   "source": [
    "map = folium.Map(location=SF_COORDINATES, zoom_start=11,max_zoom=20, control_scale = True, prefer_canvas=True)\n",
    "marker_cluster = MarkerCluster().add_to(map)\n",
    "for i in range(len(AYU_CLOSE.id_OSM.values)):\n",
    "    folium.Marker(icon=folium.Icon(color='blue'),popup=folium.Popup(str(AYU_CLOSE.index.values[i]), parse_html=True),\n",
    "        location = (AYU_CLOSE.LATITUD.values[i],AYU_CLOSE.LONGITUD.values[i])).add_to(marker_cluster)\n",
    "map.save(AYU_fichero[:-4]+'-edit.html')"
   ]
  },
  {
   "cell_type": "markdown",
   "metadata": {},
   "source": [
    "## Missing in OSM"
   ]
  },
  {
   "cell_type": "code",
   "execution_count": 35,
   "metadata": {
    "collapsed": true
   },
   "outputs": [],
   "source": [
    "map = folium.Map(location=SF_COORDINATES, zoom_start=11,max_zoom=18, control_scale = True, prefer_canvas=True)\n",
    "marker_cluster = MarkerCluster().add_to(map)\n",
    "for i in range(len(AYU_NO.id_OSM.values[:100])):\n",
    "    folium.Marker(icon=folium.Icon(color='blue'),popup=folium.Popup(AYU_NO.index.values[i], parse_html=True),\n",
    "        location = (AYU_NO.LATITUD.values[i],AYU_NO.LONGITUD.values[i])).add_to(marker_cluster)\n",
    "map.save(AYU_fichero[:-4]+'-missing_OSM.html')"
   ]
  },
  {
   "cell_type": "markdown",
   "metadata": {},
   "source": [
    "## Missing in Ayu website"
   ]
  },
  {
   "cell_type": "code",
   "execution_count": 36,
   "metadata": {
    "collapsed": true
   },
   "outputs": [],
   "source": [
    "map = folium.Map(location=SF_COORDINATES, zoom_start=11,max_zoom=20, control_scale = True, prefer_canvas=True)\n",
    "marker_cluster = MarkerCluster().add_to(map)\n",
    "for i in range(len(AYU_MISSING.index.values)):\n",
    "    folium.Marker(icon=folium.Icon(color='green'),popup=folium.Popup(AYU_MISSING.index.values[i], parse_html=True),\n",
    "        location = (AYU_MISSING.lat_OSM.values[i],AYU_MISSING.lon_OSM.values[i])).add_to(marker_cluster)\n",
    "map.save(AYU_fichero[:-4]+'-missing_AYU.html')"
   ]
  },
  {
   "cell_type": "code",
   "execution_count": null,
   "metadata": {
    "collapsed": true
   },
   "outputs": [],
   "source": []
  },
  {
   "cell_type": "code",
   "execution_count": null,
   "metadata": {
    "collapsed": true
   },
   "outputs": [],
   "source": []
  }
 ],
 "metadata": {
  "kernelspec": {
   "display_name": "Python [conda root]",
   "language": "python",
   "name": "conda-root-py"
  },
  "language_info": {
   "codemirror_mode": {
    "name": "ipython",
    "version": 3
   },
   "file_extension": ".py",
   "mimetype": "text/x-python",
   "name": "python",
   "nbconvert_exporter": "python",
   "pygments_lexer": "ipython3",
   "version": "3.5.3"
  }
 },
 "nbformat": 4,
 "nbformat_minor": 2
}
